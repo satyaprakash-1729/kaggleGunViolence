{
 "cells": [
  {
   "cell_type": "code",
   "execution_count": 67,
   "metadata": {
    "collapsed": false
   },
   "outputs": [],
   "source": [
    "import pandas as pd\n",
    "import matplotlib.pyplot as plt"
   ]
  },
  {
   "cell_type": "code",
   "execution_count": 68,
   "metadata": {
    "collapsed": false
   },
   "outputs": [],
   "source": [
    "data = pd.read_csv('./data.csv')"
   ]
  },
  {
   "cell_type": "code",
   "execution_count": 69,
   "metadata": {
    "collapsed": false
   },
   "outputs": [
    {
     "data": {
      "image/png": "[encoded data removed]",
      "text/plain": [
       "<matplotlib.figure.Figure at 0x7f8f6eacd250>"
      ]
     },
     "metadata": {},
     "output_type": "display_data"
    }
   ],
   "source": [
    "nulldata = data.isnull().sum() * 1./data.shape[0]\n",
    "nulldata.plot(kind='bar')\n",
    "plt.show()"
   ]
  },
  {
   "cell_type": "code",
   "execution_count": 70,
   "metadata": {
    "collapsed": false
   },
   "outputs": [],
   "source": [
    "data = data.drop(['location_description', 'participant_relationship'], axis=1)"
   ]
  },
  {
   "cell_type": "code",
   "execution_count": 71,
   "metadata": {
    "collapsed": false
   },
   "outputs": [],
   "source": [
    "data[\"n_guns_involved\"] = data[\"n_guns_involved\"].fillna(-1).astype(int)"
   ]
  },
  {
   "cell_type": "code",
   "execution_count": 72,
   "metadata": {
    "collapsed": false
   },
   "outputs": [],
   "source": [
    "colnames = ['congressional_district', 'state_house_district', 'state_senate_district']\n",
    "data[colnames] = data[colnames].astype(object)"
   ]
  },
  {
   "cell_type": "code",
   "execution_count": 73,
   "metadata": {
    "collapsed": false
   },
   "outputs": [],
   "source": [
    "parse_columns = ['gun_stolen', 'gun_type', 'incident_characteristics', 'participant_age', 'participant_age_group', 'participant_gender', 'participant_name', 'participant_status', 'participant_type']\n",
    "\n",
    "# Make \"incident_id\" column the index\n",
    "data.set_index('incident_id')\n",
    "data['gun_stolen'] = data['gun_stolen'].str.replace('\\|\\|', ', ')\n",
    "data['gun_stolen'] = data['gun_stolen'].str.replace('::', ': ')"
   ]
  },
  {
   "cell_type": "code",
   "execution_count": 87,
   "metadata": {
    "collapsed": false
   },
   "outputs": [
    {
     "name": "stdout",
     "output_type": "stream",
     "text": [
      "<class 'pandas.core.frame.DataFrame'>\n",
      "RangeIndex: 239677 entries, 0 to 239676\n",
      "Data columns (total 27 columns):\n",
      "incident_id                    239677 non-null int64\n",
      "date                           239677 non-null object\n",
      "state                          239677 non-null object\n",
      "city_or_county                 239677 non-null object\n",
      "address                        223180 non-null object\n",
      "n_killed                       239677 non-null int64\n",
      "n_injured                      239677 non-null int64\n",
      "incident_url                   239677 non-null object\n",
      "source_url                     239209 non-null object\n",
      "incident_url_fields_missing    239677 non-null bool\n",
      "congressional_district         227733 non-null object\n",
      "gun_stolen                     140179 non-null object\n",
      "gun_type                       140226 non-null object\n",
      "incident_characteristics       239351 non-null object\n",
      "latitude                       231754 non-null float64\n",
      "longitude                      231754 non-null float64\n",
      "n_guns_involved                239677 non-null int64\n",
      "notes                          158660 non-null object\n",
      "participant_age                147379 non-null object\n",
      "participant_age_group          197558 non-null object\n",
      "participant_gender             203315 non-null object\n",
      "participant_name               117424 non-null object\n",
      "participant_status             212051 non-null object\n",
      "participant_type               214814 non-null object\n",
      "sources                        239068 non-null object\n",
      "state_house_district           200905 non-null object\n",
      "state_senate_district          207342 non-null object\n",
      "dtypes: bool(1), float64(2), int64(4), object(20)\n",
      "memory usage: 47.8+ MB\n"
     ]
    }
   ],
   "source": [
    "data.info()"
   ]
  },
  {
   "cell_type": "code",
   "execution_count": null,
   "metadata": {
    "collapsed": true
   },
   "outputs": [],
   "source": []
  }
 ],
 "metadata": {
  "kernelspec": {
   "display_name": "Python 2",
   "language": "python",
   "name": "python2"
  },
  "language_info": {
   "codemirror_mode": {
    "name": "ipython",
    "version": 2
   },
   "file_extension": ".py",
   "mimetype": "text/x-python",
   "name": "python",
   "nbconvert_exporter": "python",
   "pygments_lexer": "ipython2",
   "version": "2.7.12"
  }
 },
 "nbformat": 4,
 "nbformat_minor": 2
}
